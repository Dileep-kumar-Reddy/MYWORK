{
 "cells": [
  {
   "cell_type": "code",
   "execution_count": null,
   "metadata": {},
   "outputs": [],
   "source": [
    "import numpy"
   ]
  },
  {
   "cell_type": "code",
   "execution_count": null,
   "metadata": {},
   "outputs": [],
   "source": [
    "a=numpy.array([[1,2,3],[4,5,6]])\n",
    "print(a.flags.c_contiguous)\n",
    "# array stored as 1 2 3 4 5 6 continuous locations\n",
    "print(a.flags.f_contiguous)"
   ]
  },
  {
   "cell_type": "code",
   "execution_count": null,
   "metadata": {},
   "outputs": [],
   "source": [
    "b=numpy.array([[1,2,3],[4,5,6]],order='F')\n",
    "b.flags.f_contiguous\n",
    "# array stored as 1 4 2 5 3 6 column wise elements are adjacent"
   ]
  },
  {
   "cell_type": "code",
   "execution_count": null,
   "metadata": {},
   "outputs": [],
   "source": [
    "print(a.flags.owndata)#true since it is not a slice\n",
    "c=a[1:4]\n",
    "print(c.flags.owndata,c,sep='\\n')\n",
    "#Data abstracted by slice is not owndata\n",
    "#any changes in c would also reflected in a too"
   ]
  },
  {
   "cell_type": "code",
   "execution_count": null,
   "metadata": {},
   "outputs": [],
   "source": [
    "a.strides\n",
    "#Returns a tuple indicating a bytes to jump over rows and columsn respectively to get the next element."
   ]
  },
  {
   "cell_type": "code",
   "execution_count": null,
   "metadata": {},
   "outputs": [],
   "source": [
    "beta=numpy.arange(125).reshape(5,5,5)\n",
    "print(beta.ndim)#returns no.of dimensions\n",
    "print(beta.itemsize)#returns no.of bytes of each element\n",
    "print(beta.size)#returns no.of elements\n",
    "print(beta.nbytes)#no.of items * itemsize\n",
    "print(beta.dtype.str)#string of data type"
   ]
  },
  {
   "cell_type": "code",
   "execution_count": null,
   "metadata": {},
   "outputs": [],
   "source": []
  }
 ],
 "metadata": {
  "kernelspec": {
   "display_name": "Python 3",
   "language": "python",
   "name": "python3"
  },
  "language_info": {
   "codemirror_mode": {
    "name": "ipython",
    "version": 3
   },
   "file_extension": ".py",
   "mimetype": "text/x-python",
   "name": "python",
   "nbconvert_exporter": "python",
   "pygments_lexer": "ipython3",
   "version": "3.11.5"
  }
 },
 "nbformat": 4,
 "nbformat_minor": 2
}
